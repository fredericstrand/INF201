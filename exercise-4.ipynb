{
 "cells": [
  {
   "cell_type": "markdown",
   "metadata": {},
   "source": [
    "# Exercise 4\n",
    "\n",
    "**Names: Frederic Ljosland Strand**\n",
    "\n",
    "### Task 0: warm up\n",
    "\n",
    "You are tasked with managing directories for a simple project. You will create a project folder, check if certain subdirectories exist, and create them if they don't. You will also learn how to work with both local and global paths.\n",
    "\n",
    "1. Create a function to set up a project directory in the current working directory. The project name is specified as input to the function.\n",
    "2. Inside the project folder, the function creates two subdirectories:\n",
    "data\n",
    "output\n",
    "3. Always check if a directory already exists. If it does, print a warning and abort.\n",
    "4. The function should create a file inside the data folder named data.txt.\n",
    "5. After calling the function, check that all directories have been created, and if so, print out their global path.\n",
    "\n",
    "**Requirements:**\n",
    "* Use Path.cwd() for the current working directory.\n",
    "* Use Path.mkdir() to create directories and handle exceptions if they already exist.\n",
    "* Use Path.exists() to check if a folder exists.\n",
    "* Use Path.touch() to create an empty file.\n",
    "* If you want to check your solution or run into trouble, watch this video."
   ]
  },
  {
   "cell_type": "code",
   "execution_count": 41,
   "metadata": {},
   "outputs": [
    {
     "name": "stdout",
     "output_type": "stream",
     "text": [
      "task 0 output: \n",
      "------------------------------------------------------------\n",
      "/Users/fredericstrand/Documents/INF201/exercise_4/.DS_Store\n",
      "/Users/fredericstrand/Documents/INF201/exercise_4/projects\n",
      "/Users/fredericstrand/Documents/INF201/exercise_4/output\n",
      "/Users/fredericstrand/Documents/INF201/exercise_4/data\n",
      "/Users/fredericstrand/Documents/INF201/exercise_4/projects/.DS_Store\n",
      "/Users/fredericstrand/Documents/INF201/exercise_4/projects/exercise_2\n",
      "/Users/fredericstrand/Documents/INF201/exercise_4/projects/exercise_4\n",
      "/Users/fredericstrand/Documents/INF201/exercise_4/projects/exercise_3\n",
      "/Users/fredericstrand/Documents/INF201/exercise_4/projects/exercise_1\n",
      "/Users/fredericstrand/Documents/INF201/exercise_4/projects/exercise_2/.DS_Store\n",
      "/Users/fredericstrand/Documents/INF201/exercise_4/projects/exercise_2/Ole\n",
      "/Users/fredericstrand/Documents/INF201/exercise_4/projects/exercise_2/Sarah\n",
      "/Users/fredericstrand/Documents/INF201/exercise_4/projects/exercise_4/Ole\n",
      "/Users/fredericstrand/Documents/INF201/exercise_4/projects/exercise_4/Sarah\n",
      "/Users/fredericstrand/Documents/INF201/exercise_4/projects/exercise_3/Ole\n",
      "/Users/fredericstrand/Documents/INF201/exercise_4/projects/exercise_3/Sarah\n",
      "/Users/fredericstrand/Documents/INF201/exercise_4/projects/exercise_1/Ole\n",
      "/Users/fredericstrand/Documents/INF201/exercise_4/projects/exercise_1/Sarah\n",
      "/Users/fredericstrand/Documents/INF201/exercise_4/output/output.txt\n",
      "/Users/fredericstrand/Documents/INF201/exercise_4/data/data.txt\n"
     ]
    }
   ],
   "source": [
    "from pathlib import Path\n",
    "import numpy as np\n",
    "\n",
    "exercise_4_task0_path = Path.cwd() / 'exercise_4'\n",
    "exercise_4_task0_path.mkdir(exist_ok=True)\n",
    "\n",
    "sub_dirs = ['data','output']\n",
    "\n",
    "def create_directory(project_name):\n",
    "\n",
    "    for sub_dir in sub_dirs:\n",
    "        sub_dir_path = exercise_4_task0_path / sub_dir\n",
    "        if not sub_dir_path.exists():\n",
    "            sub_dir_path.mkdir()\n",
    "            file_path = sub_dir_path / (sub_dir + '.txt')\n",
    "            print(file_path)\n",
    "            file_path.touch() \n",
    "    \n",
    "    print(\"task 0 output: \")\n",
    "    print(\"-\"*60)\n",
    "    for path in Path.glob(exercise_4_task0_path, \"**/*\"):\n",
    "        print(path)\n",
    "\n",
    "create_directory(exercise_4_task0_path)\n"
   ]
  },
  {
   "cell_type": "markdown",
   "metadata": {},
   "source": [
    "### Task 1: Exercise folder creation (5 points)\n",
    "\n",
    "Write a program that creates folders from a list of exercises and a list of students. In the following, the folder structure is explained:\n",
    "\n",
    "The list of exercises incorporates simple assignments followed by project assignments with a part \"a\" and a part \"b\". Write a function that generates this list for a given variable project_assignments_start (the number of the exercise at which the project assignments start) and a given total number of exercises. Use list comprehensions to generate this list compactly.\n",
    "\n",
    "As an example, if the project assignments start at exercise 3 and there is a total number of 4 exercises, the list of exercises which is returned by the function call exercises = create_exercises(total_number=4, project_assignments_start=3) takes the form\n",
    "\n",
    "exercises = [\"1\",\"2\",\"3a\",\"3b\",\"4a\",\"4b\"]\n",
    "\n",
    "Assume that you are given a list of students and the exercise list described above in (1.). Then, your program should create a folder for each exercise, and the program should create a folder for each student. Your program should create the exercise folders in a parent folder \"projects\". Folders for exercise X should have the format \"exercise_X\". Hence, the folder structure should be \"projects/exercise_X/Y/\", where X is the exercise, and Y is the student's name. That is, given the student list\n",
    "\n",
    "students = [\"Ole\", \"Sarah\"]\n",
    "and a total number of 4 exercises where the project assignments start at exercise 3, your program should generate the folders\n",
    "\n",
    "- projects/exercise_1/Ole\n",
    "- projects/exercise_1/Sarah\n",
    "- projects/exercise_2/Ole\n",
    "- projects/exercise_2/Sarah\n",
    "- projects/exercise_3a/Ole\n",
    "- projects/exercise_3b/Ole\n",
    "- projects/exercise_3a/Sarah\n",
    "- projects/exercise_3b/Sarah\n",
    "- projects/exercise_4a/Ole\n",
    "- projects/exercise_4b/Ole\n",
    "- projects/exercise_4a/Sarah\n",
    "- projects/exercise_4b/Sarah\n",
    "\n",
    "Note that your program should work for a general list of students, a general number of exercises, and a general variable project_assignments_start. \n",
    "\n",
    "Work on this task as follows:\n",
    "\n",
    "Write a function that generates the exercise list. Use list comprehensions to ensure the code of your function (including the function header) does not exceed four lines.\n",
    "Create a list of students. You can start with the list that is provided in the example.\n",
    "Use the concepts learned in the lecture to create the specified file structure. Ensure that your code works even if the folders already exist.\n",
    "Print out the generated file structure with the glob function."
   ]
  },
  {
   "cell_type": "code",
   "execution_count": 39,
   "metadata": {},
   "outputs": [
    {
     "name": "stdout",
     "output_type": "stream",
     "text": [
      "------------------------------------------------------------\n",
      "/Users/fredericstrand/Documents/INF201/exercise_4/projects/.DS_Store\n",
      "/Users/fredericstrand/Documents/INF201/exercise_4/projects/exercise_2\n",
      "/Users/fredericstrand/Documents/INF201/exercise_4/projects/exercise_4\n",
      "/Users/fredericstrand/Documents/INF201/exercise_4/projects/exercise_3\n",
      "/Users/fredericstrand/Documents/INF201/exercise_4/projects/exercise_1\n",
      "/Users/fredericstrand/Documents/INF201/exercise_4/projects/exercise_2/.DS_Store\n",
      "/Users/fredericstrand/Documents/INF201/exercise_4/projects/exercise_2/Ole\n",
      "/Users/fredericstrand/Documents/INF201/exercise_4/projects/exercise_2/Sarah\n",
      "/Users/fredericstrand/Documents/INF201/exercise_4/projects/exercise_4/Ole\n",
      "/Users/fredericstrand/Documents/INF201/exercise_4/projects/exercise_4/Sarah\n",
      "/Users/fredericstrand/Documents/INF201/exercise_4/projects/exercise_3/Ole\n",
      "/Users/fredericstrand/Documents/INF201/exercise_4/projects/exercise_3/Sarah\n",
      "/Users/fredericstrand/Documents/INF201/exercise_4/projects/exercise_1/Ole\n",
      "/Users/fredericstrand/Documents/INF201/exercise_4/projects/exercise_1/Sarah\n"
     ]
    }
   ],
   "source": [
    "def create_exercises(total_number: int, project_assignment_start: int):\n",
    "    exercises = [str(i) if i < project_assignment_start else str(i) + suffix\n",
    "                 for i in range(1, total_number + 1)\n",
    "                 for suffix in ([''] if i < project_assignment_start else ['a', 'b'])]\n",
    "    return exercises\n",
    "\n",
    "def make_file_structure(exercises):\n",
    "    students = ['Ole', 'Sarah']\n",
    "    projects_path = Path.cwd() / 'exercise_4' / 'projects'\n",
    "    projects_path.mkdir(parents=True, exist_ok=True)\n",
    "\n",
    "    for exercise in exercises:\n",
    "        exercise_4_task1_path = projects_path / ('exercise_' + exercise)\n",
    "        exercise_4_task1_path.mkdir(exist_ok=True)\n",
    "\n",
    "        for student in students:\n",
    "            exercise_4_task1_student_path = exercise_4_task1_path / student\n",
    "            exercise_4_task1_student_path.mkdir(exist_ok=True)\n",
    "    \n",
    "    print(\"-\"*60)\n",
    "    for path in Path.glob(projects_path, \"**/*\"):\n",
    "        print(path)\n",
    "\n",
    "exercises = create_exercises(3, 5)\n",
    "make_file_structure(exercises)\n",
    "\n"
   ]
  },
  {
   "cell_type": "markdown",
   "metadata": {},
   "source": [
    "### Task 2: Challenge Exercise (0 points)\n",
    "In this task, you will implement a function to compute the matrix-vector product using two different approaches:\n",
    "\n",
    "* A custom implementation using a list of lists (your own data format).\n",
    "* A NumPy implementation.\n",
    "* A matrix-vector product is an operation that multiplies a matrix by a vector, resulting in a new vector. Given a matrix  of dimensions  and a vector  of size , the product  produces a new vector  of size . The element  of the resulting vector  can be computed using the formula:\n",
    "\n",
    "\n",
    "\n",
    "Proceed as follows:\n",
    "\n",
    "Implement a Custom Matrix-Vector Product Function:\n",
    "\n",
    "Define a function matrix_vector_product(matrix, vector) that takes a matrix (as a list of lists) and a vector (as a list) and returns the resulting vector. Try to implement this function as efficiently as possible.\n",
    "Implement a NumPy Matrix-Vector Product Function:\n",
    "\n",
    "Use NumPy to create a function numpy_matrix_vector_product(matrix, vector) that performs the same operation, but uses the numpy.dot function.\n",
    "Timing the Implementations:\n",
    "\n",
    "Use the time module to measure and compare the execution time of both implementations. Generate a random matrix and vector for testing.\n",
    "Check that the results of your method and numpy match. You can use the np.allclose function. "
   ]
  },
  {
   "cell_type": "code",
   "execution_count": null,
   "metadata": {},
   "outputs": [],
   "source": [
    "import time\n",
    "\n",
    "def measure_efficiency():\n",
    "    array = np.random.randint(low=0, high=100, size=None)\n",
    "    matrix = np.random.randint(low=0, high=100, size=(np.random.randint(1,10), np.random.randint(1,10)))\n",
    "\n"
   ]
  },
  {
   "cell_type": "code",
   "execution_count": null,
   "metadata": {},
   "outputs": [],
   "source": [
    "def matrix_vector_product_normal(matrix, vector):\n",
    "    \n",
    "\n",
    "def matrix_vector_product_numpy(matrix, vector):\n",
    "    np.dot(matrix,vector)"
   ]
  }
 ],
 "metadata": {
  "kernelspec": {
   "display_name": "Python (myenv)",
   "language": "python",
   "name": "myenv"
  },
  "language_info": {
   "codemirror_mode": {
    "name": "ipython",
    "version": 3
   },
   "file_extension": ".py",
   "mimetype": "text/x-python",
   "name": "python",
   "nbconvert_exporter": "python",
   "pygments_lexer": "ipython3",
   "version": "3.8.18"
  }
 },
 "nbformat": 4,
 "nbformat_minor": 2
}
