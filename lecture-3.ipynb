{
 "cells": [
  {
   "cell_type": "markdown",
   "metadata": {},
   "source": [
    "# Lecture 3\n",
    "\n",
    "### Read and write from latin 1"
   ]
  },
  {
   "cell_type": "code",
   "execution_count": 9,
   "metadata": {},
   "outputs": [],
   "source": [
    "with open(\"data/latin1_encoded_file.txt\", encoding=\"latin-1\") as data:\n",
    "    data = data.read()"
   ]
  },
  {
   "cell_type": "code",
   "execution_count": 10,
   "metadata": {},
   "outputs": [],
   "source": [
    "with open(\"data/utf-latin1_encoded_file.txt\",\"w\",encoding=\"utf-8\") as out:\n",
    "    out.write(data)"
   ]
  },
  {
   "cell_type": "markdown",
   "metadata": {},
   "source": [
    "### Reading from more formats"
   ]
  },
  {
   "cell_type": "code",
   "execution_count": 16,
   "metadata": {},
   "outputs": [
    {
     "name": "stdout",
     "output_type": "stream",
     "text": [
      "\n",
      "[{'Name': 'Per', 'Age': 24, 'Phone number': '12345678'}, {'Name': 'Kari', 'Age': 23, 'Phone number': '23456789'}]\n"
     ]
    }
   ],
   "source": [
    "import json\n",
    "# dictionary of two students\n",
    "students = [{'Name': 'Per', 'Age': 24, 'Phone number': '12345678'},\n",
    "            {'Name': 'Kari', 'Age': 23, 'Phone number': '23456789'}]\n",
    "\n",
    "# write information to json file\n",
    "with open('data/students.json', 'w') as jfile:\n",
    "    json.dump(students, jfile)\n",
    "\n",
    "# print out file\n",
    "print(open('students.json').read())\n",
    "# read file\n",
    "students_from_json = json.load(open('data/students.json'))\n",
    "print(students_from_json)\n"
   ]
  },
  {
   "cell_type": "markdown",
   "metadata": {},
   "source": [
    "# Regular expression (scripting)\n",
    "\n",
    "\n",
    "## Regex syntax\n",
    "\n",
    "### printing:\n",
    "* print(m.span())\n",
    "* print(m.start())\n",
    "* print(m.end())\n",
    "\n",
    "### Useful functions:\n",
    "* re.search(pattern, string) finds first match of pattern in string\n",
    "* re.match(pattern, string) as search(), but match only at beginning of string\n",
    "* re.findall(pattern, string) finds all matches of pattern in string\n",
    "* re.finditer(pattern, string) iterate over all matches in string, returning\n",
    "match objects\n",
    "* re.split(pattern, string) split string on pattern and return list of parts\n",
    "* re.sub(pattern, replacement, string) replaces all occurrences of pattern in\n",
    "string with replacement\n",
    "* re.compile(pattern) returns regular expression object, improves efficiency if same\n",
    "regex is used many times\n",
    "\n",
    "\n",
    "### Slicing (Regex Explanation):\n",
    "* **`\\w`** matches any character that can be part of a word\n",
    "* **`*`** means \"match 0 or more times\"\n",
    "* **`\\b`** matches any word-boundary character (space, punctuation, end of string)\n",
    "* **`+`** means \"match 1 or more times\"\n",
    "* **`\\s`** represents any whitespace\n",
    "* **`\\A`** start of the string\n",
    "* **`\\Z`** end of the string\n",
    "* **`[I-K]`** any character from capital I to capital K\n",
    "* **`.`** Matches any single character except newline\n",
    "* **`{4,5}`** means: previous symbol repeated at least four times, at most five times\n",
    "* **`[\\.\\-]+`** match characters \".\" and \"-\" one or more times\n",
    "* **`\\d`** matches a digit"
   ]
  },
  {
   "cell_type": "code",
   "execution_count": 45,
   "metadata": {},
   "outputs": [
    {
     "name": "stdout",
     "output_type": "stream",
     "text": [
      "['see', 'the', 'rose']\n",
      "['rose']\n",
      "['can ', 'see ', 'the ', 'red ']\n",
      "['KI']\n",
      "['the red rose']\n"
     ]
    }
   ],
   "source": [
    "import re\n",
    "\n",
    "m = re.findall(r\"\\w*e\\b\",\"I can see the red rose\")\n",
    "print(m)\n",
    "\n",
    "n = re.findall(r\"\\w{4,}\",\"I can see the red rose\")\n",
    "print(n)\n",
    "\n",
    "o = re.findall(r\"\\w{2,}\\s\",\"I can see the red rose\")\n",
    "print(o)\n",
    "\n",
    "p = re.findall(r\"\\A[I-K]+\",\"KI can see the red rose\")\n",
    "print(p)\n",
    "\n",
    "q = re.findall(r\"the\\s+\\w+\\s+\\w+\\b\",\"I can see the red rose\")\n",
    "print(q)"
   ]
  },
  {
   "cell_type": "markdown",
   "metadata": {},
   "source": [
    "### Replace words"
   ]
  },
  {
   "cell_type": "code",
   "execution_count": 4,
   "metadata": {},
   "outputs": [
    {
     "name": "stdout",
     "output_type": "stream",
     "text": [
      "Richie a cat.\n"
     ]
    }
   ],
   "source": [
    "import re\n",
    "\n",
    "titus_regex = re.compile(r'\\A(\\w*)\\s\\w*')\n",
    "out = titus_regex.sub(\"Richie\", \"Titus is a cat.\")\n",
    "print(out)"
   ]
  },
  {
   "cell_type": "markdown",
   "metadata": {},
   "source": [
    "### Scripting to manage file collections"
   ]
  },
  {
   "cell_type": "code",
   "execution_count": null,
   "metadata": {},
   "outputs": [],
   "source": []
  }
 ],
 "metadata": {
  "kernelspec": {
   "display_name": "Python (myenv)",
   "language": "python",
   "name": "myenv"
  },
  "language_info": {
   "codemirror_mode": {
    "name": "ipython",
    "version": 3
   },
   "file_extension": ".py",
   "mimetype": "text/x-python",
   "name": "python",
   "nbconvert_exporter": "python",
   "pygments_lexer": "ipython3",
   "version": "3.8.18"
  }
 },
 "nbformat": 4,
 "nbformat_minor": 2
}
