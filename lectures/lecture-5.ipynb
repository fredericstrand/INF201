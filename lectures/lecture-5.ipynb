{
 "cells": [
  {
   "cell_type": "markdown",
   "metadata": {},
   "source": [
    "# Lecture 5"
   ]
  },
  {
   "cell_type": "code",
   "execution_count": 3,
   "metadata": {},
   "outputs": [
    {
     "name": "stdout",
     "output_type": "stream",
     "text": [
      "Matrix A: [[3, 4, 5], [4, 5, 6], [5, 6, 7]]\n",
      "Matrix B: [[3, 4, 5], [4, 5, 6], [5, 6, 7]]\n",
      "Matrix C (A + B): [[6, 8, 10], [8, 10, 12], [10, 12, 14]]\n"
     ]
    }
   ],
   "source": [
    "def add(A: list, B: list) -> list:\n",
    "    rows = len(A)\n",
    "    cols = len(A[0])\n",
    "    C = [[0 for _ in range(cols)] for _ in range(rows)]\n",
    "    \n",
    "    for i in range(rows):\n",
    "        for j in range(cols):\n",
    "            C[i][j] = A[i][j] + B[i][j]\n",
    "    \n",
    "    return C\n",
    "\n",
    "A = [[i + j for j in range(1, 4)] for i in range(2, 5)]\n",
    "B = [[i + j for j in range(1, 4)] for i in range(2, 5)]\n",
    "\n",
    "C = add(A, B)\n",
    "print(\"Matrix A:\", A)\n",
    "print(\"Matrix B:\", B)\n",
    "print(\"Matrix C (A + B):\", C)\n"
   ]
  },
  {
   "cell_type": "code",
   "execution_count": null,
   "metadata": {},
   "outputs": [],
   "source": []
  }
 ],
 "metadata": {
  "kernelspec": {
   "display_name": "Python (myenv)",
   "language": "python",
   "name": "myenv"
  },
  "language_info": {
   "codemirror_mode": {
    "name": "ipython",
    "version": 3
   },
   "file_extension": ".py",
   "mimetype": "text/x-python",
   "name": "python",
   "nbconvert_exporter": "python",
   "pygments_lexer": "ipython3",
   "version": "3.8.18"
  }
 },
 "nbformat": 4,
 "nbformat_minor": 2
}
