{
 "cells": [
  {
   "cell_type": "markdown",
   "metadata": {},
   "source": [
    "# Lecture 10"
   ]
  },
  {
   "cell_type": "code",
   "execution_count": 12,
   "metadata": {},
   "outputs": [
    {
     "name": "stdout",
     "output_type": "stream",
     "text": [
      "[<__main__.TypeBirdClass object at 0x1112e1750>, <__main__.TypeLionClass object at 0x1112e1490>, <__main__.TypeDogClass object at 0x111229dd0>]\n"
     ]
    }
   ],
   "source": [
    "# Example from main.py (implement a zoo)\n",
    "class AnimalFactory:\n",
    "    def __init__(self) -> None:\n",
    "        self._animal_types = {\n",
    "            \"dog\": TypeDogClass,\n",
    "            \"bird\": TypeBirdClass,\n",
    "            \"lion\": TypeLionClass\n",
    "        }\n",
    "    \n",
    "    # possible input: {\"type\": \"bird\", \"age\":1}\n",
    "    def create(self, animal):\n",
    "        return self._animal_types[animal[\"type\"]](animal[\"age\"])\n",
    "    \n",
    "\n",
    "class TypeBirdClass:\n",
    "    def __init__(self, age) -> None:\n",
    "        self._age = age\n",
    "    \n",
    "class TypeDogClass:\n",
    "    def __init__(self, age) -> None:\n",
    "        self._age = age\n",
    "    \n",
    "class TypeLionClass:\n",
    "    def __init__(self, age) -> None:\n",
    "        self._age = age\n",
    "\n",
    "animals = [\n",
    "    {\"type\": \"bird\", \"age\": 1},\n",
    "    {\"type\": \"lion\", \"age\": 2},\n",
    "    {\"type\": \"dog\", \"age\": 6}\n",
    "]\n",
    "\n",
    "zoo = []\n",
    "create_animal = AnimalFactory()\n",
    "for animal in animals:\n",
    "    tmp = create_animal.create(animal)\n",
    "    zoo.append(tmp)\n",
    "\n",
    "print(zoo)\n"
   ]
  },
  {
   "cell_type": "code",
   "execution_count": 27,
   "metadata": {},
   "outputs": [
    {
     "name": "stdout",
     "output_type": "stream",
     "text": [
      "Player Frederic wins!\n"
     ]
    }
   ],
   "source": [
    "from random import randint\n",
    "from abc import ABC, abstractmethod\n",
    "\n",
    "class PlayerFactory:\n",
    "    def __init__(self):\n",
    "        self._player_types = {\"standard\": StandardPlayer, \"reroll\": RerollPlayer}\n",
    "\n",
    "    def register(self, key, name):\n",
    "        self._player_types[key] = name\n",
    "\n",
    "    def __call__(self, player):\n",
    "        key = player[\"type\"]\n",
    "        return self._player_types[key](player[\"id\"])\n",
    "\n",
    "class Player(ABC):\n",
    "    def __init__(self, id):\n",
    "        self._id = id\n",
    "        self._position = 1\n",
    "\n",
    "    @abstractmethod\n",
    "    def move(self):\n",
    "        pass\n",
    "\n",
    "    def go_back(self):\n",
    "        self._position -= 4\n",
    "\n",
    "class RerollPlayer(Player):\n",
    "    def __init__(self, id):\n",
    "        super().__init__(id)\n",
    "\n",
    "    def move(self):\n",
    "        up = randint(1, 6)\n",
    "        if up < 3:\n",
    "            up = randint(1, 6)\n",
    "        self._position += up\n",
    "\n",
    "class StandardPlayer(Player):\n",
    "    def __init__(self, id):\n",
    "        super().__init__(id)\n",
    "\n",
    "    def move(self):\n",
    "        self._position += randint(1, 6)\n",
    "\n",
    "class Game:\n",
    "    def __init__(self, player_info):\n",
    "        self._return_positions = range(5, 31, 5)\n",
    "        pf = PlayerFactory()\n",
    "        self._players = [pf(player) for player in player_info]\n",
    "\n",
    "    def play(self):\n",
    "        while True:\n",
    "            for player in self._players:\n",
    "                player.move()\n",
    "                if player._position in self._return_positions:\n",
    "                    player.go_back()\n",
    "                if player._position >= 31:\n",
    "                    return player._id\n",
    "\n",
    "player_info = [{\"type\": \"standard\", \"id\": \"Frederic\"}, {\"type\": \"reroll\", \"id\": \"Jens\"},{\"type\": \"reroll\", \"id\": \"Jonas\"},{\"type\": \"standard\", \"id\": \"Jonathan\"}]\n",
    "g = Game(player_info)\n",
    "print(f\"Player {g.play()} wins!\")\n"
   ]
  },
  {
   "cell_type": "markdown",
   "metadata": {},
   "source": [
    "## Decorators"
   ]
  },
  {
   "cell_type": "code",
   "execution_count": null,
   "metadata": {},
   "outputs": [],
   "source": []
  }
 ],
 "metadata": {
  "kernelspec": {
   "display_name": "inf201env",
   "language": "python",
   "name": "python3"
  },
  "language_info": {
   "codemirror_mode": {
    "name": "ipython",
    "version": 3
   },
   "file_extension": ".py",
   "mimetype": "text/x-python",
   "name": "python",
   "nbconvert_exporter": "python",
   "pygments_lexer": "ipython3",
   "version": "3.11.5"
  }
 },
 "nbformat": 4,
 "nbformat_minor": 2
}
