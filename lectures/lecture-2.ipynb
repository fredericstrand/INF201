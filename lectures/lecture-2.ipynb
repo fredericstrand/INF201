{
 "cells": [
  {
   "cell_type": "markdown",
   "metadata": {},
   "source": [
    "# Lecture 2: 16.09.2024\n",
    "\n",
    "### ord()"
   ]
  },
  {
   "cell_type": "code",
   "execution_count": 6,
   "metadata": {},
   "outputs": [
    {
     "data": {
      "text/plain": [
       "230"
      ]
     },
     "execution_count": 6,
     "metadata": {},
     "output_type": "execute_result"
    }
   ],
   "source": [
    "ord('æ')"
   ]
  },
  {
   "cell_type": "markdown",
   "metadata": {},
   "source": [
    "### Type hints"
   ]
  },
  {
   "cell_type": "code",
   "execution_count": 13,
   "metadata": {},
   "outputs": [
    {
     "name": "stdout",
     "output_type": "stream",
     "text": [
      "1.0\n"
     ]
    }
   ],
   "source": [
    "from typing import Union\n",
    "from typing import Optional\n",
    "\n",
    "number = Union[int, float]\n",
    "def remove(a: number, b:number) -> number:\n",
    "    return a - b\n",
    "\n",
    "def double(data: list[int]) -> list[int]:\n",
    "    return [x**2 for x in data]\n",
    "\n",
    "def print_key(key: str, data: dict[str, int]) -> Optional[int]:\n",
    "    if data[key] > 0:\n",
    "        return data[key]\n",
    "    else:\n",
    "        print(data[key])\n",
    "\n",
    "\n",
    "print(remove(2.0,1.0))\n",
    "data = {\"id\": 1}"
   ]
  },
  {
   "cell_type": "code",
   "execution_count": null,
   "metadata": {},
   "outputs": [],
   "source": []
  }
 ],
 "metadata": {
  "kernelspec": {
   "display_name": "Python 3",
   "language": "python",
   "name": "python3"
  },
  "language_info": {
   "codemirror_mode": {
    "name": "ipython",
    "version": 3
   },
   "file_extension": ".py",
   "mimetype": "text/x-python",
   "name": "python",
   "nbconvert_exporter": "python",
   "pygments_lexer": "ipython3",
   "version": "3.10.12"
  }
 },
 "nbformat": 4,
 "nbformat_minor": 2
}
