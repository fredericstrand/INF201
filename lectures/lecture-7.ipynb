{
 "cells": [
  {
   "cell_type": "markdown",
   "metadata": {},
   "source": [
    "# Lecture 7"
   ]
  },
  {
   "cell_type": "code",
   "execution_count": 15,
   "metadata": {},
   "outputs": [
    {
     "name": "stdout",
     "output_type": "stream",
     "text": [
      "Winner is: 3\n"
     ]
    }
   ],
   "source": [
    "from random import randint\n",
    "\n",
    "class Player:\n",
    "    def __init__(self, id) -> None:\n",
    "        self._id = id\n",
    "        self._position = 0\n",
    "\n",
    "    def move_forward(self):\n",
    "        self._position += randint(1,6)\n",
    "\n",
    "    def move_backward(self):\n",
    "        self._position -= 4\n",
    "\n",
    "    \n",
    "class Game:\n",
    "    def __init__(self,num_players) -> None:\n",
    "        self._players = [Player(i) for i in range(num_players)]\n",
    "        self._return_pos = [5,10,15,20,25,30]\n",
    "\n",
    "    def play(self):\n",
    "        while True:\n",
    "            for player in self._players:\n",
    "                player.move_forward()\n",
    "\n",
    "                if player._position in self._return_pos:\n",
    "                    player.move_backward()\n",
    "                \n",
    "                if player._position >= 31:\n",
    "                    return player._id\n",
    "\n",
    "game = Game(5)\n",
    "print(f\"Winner is: {game.play()}\")"
   ]
  },
  {
   "cell_type": "code",
   "execution_count": null,
   "metadata": {},
   "outputs": [],
   "source": []
  }
 ],
 "metadata": {
  "kernelspec": {
   "display_name": "inf201env",
   "language": "python",
   "name": "python3"
  },
  "language_info": {
   "codemirror_mode": {
    "name": "ipython",
    "version": 3
   },
   "file_extension": ".py",
   "mimetype": "text/x-python",
   "name": "python",
   "nbconvert_exporter": "python",
   "pygments_lexer": "ipython3",
   "version": "3.11.5"
  }
 },
 "nbformat": 4,
 "nbformat_minor": 2
}
