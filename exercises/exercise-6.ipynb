{
 "cells": [
  {
   "cell_type": "markdown",
   "metadata": {},
   "source": [
    "# Exercise 6\n",
    "\n",
    "### Task 0: warmup"
   ]
  },
  {
   "cell_type": "code",
   "execution_count": 5,
   "metadata": {},
   "outputs": [
    {
     "name": "stdout",
     "output_type": "stream",
     "text": [
      "The dog barks.\n",
      "The cat meows.\n"
     ]
    }
   ],
   "source": [
    "# Step 1: Create the Animal class\n",
    "class Animal:\n",
    "    def __init__(self, name, age):\n",
    "        self._name = name\n",
    "        self._age = age\n",
    "\n",
    "    def make_sound(self):\n",
    "        print(\"The animal makes a sound.\")\n",
    "\n",
    "# Step 2: Create the Dog and Cat classes that inherit from Animal\n",
    "class Dog(Animal):\n",
    "    def __init__(self, name, age, breed):\n",
    "        super().__init__(name, age)\n",
    "        self._breed = breed\n",
    "\n",
    "    def make_sound(self):\n",
    "        print(\"The dog barks.\")\n",
    "\n",
    "class Cat(Animal):\n",
    "    def __init__(self, name, age, color):\n",
    "        super().__init__(name, age)\n",
    "        self._color = color\n",
    "\n",
    "    def make_sound(self):\n",
    "        print(\"The cat meows.\")\n",
    "\n",
    "# Step 3: Test the classes\n",
    "dog = Dog(\"Millie\", 13, \"Golden Retriever\")\n",
    "cat = Cat(\"Walter\", 5, \"Black\")\n",
    "\n",
    "# Call the make_sound() method on both Dog and Cat objects\n",
    "dog.make_sound()\n",
    "cat.make_sound()\n"
   ]
  },
  {
   "cell_type": "markdown",
   "metadata": {},
   "source": [
    "### Task 1: University System Simulation"
   ]
  },
  {
   "cell_type": "code",
   "execution_count": 7,
   "metadata": {},
   "outputs": [],
   "source": [
    "class Person:\n",
    "    def __init__(self,name,age,email):\n",
    "        self._name = name\n",
    "        self._age = age\n",
    "        self._email = email\n",
    "\n",
    "    def get_details(self):\n",
    "        print(f\"Name: {self._name}, Age: {self._age}, Email: {self._email}\")\n",
    "\n",
    "class Student(Person):\n",
    "    def __init__(self,student_id,courses):\n",
    "        super().__init__(name,age)\n",
    "        self._student_id = student_id\n",
    "        self._courses = []\n",
    "\n",
    "    def enroll_in_course(self,course):\n",
    "        self._courses.append(course)\n",
    "        print(f\"{self._name} is now enrolled in {course}.\")\n",
    "\n",
    "class Teacher(Person):\n",
    "    def __init__(self,subject):\n",
    "        super().__init__(name,age,email)\n",
    "        self._subject = subject\n",
    "\n",
    "    def assign_grade(self, student, grade):\n",
    "        print(f\"Teacher {self._name} has assigned grade {grade} to {student._name}.\")\n",
    "        \n",
    "class Course:\n",
    "    def __init__(self, course_name, teacher):\n",
    "        self.course_name = course_name\n",
    "        self.teacher = teacher\n",
    "        self.enrolled_students = []\n",
    "\n",
    "    def add_student(self, student):\n",
    "        self.enrolled_students.append(student)\n",
    "        student.enroll_in_course(self.course_name)\n",
    "        print(f\"Student {student._name} has been added to the course {self.course_name}.\")\n",
    "\n",
    "    def list_students(self):\n",
    "        return [student.get_details() for student in self.enrolled_students]\n"
   ]
  },
  {
   "cell_type": "code",
   "execution_count": null,
   "metadata": {},
   "outputs": [],
   "source": []
  }
 ],
 "metadata": {
  "kernelspec": {
   "display_name": "inf201env",
   "language": "python",
   "name": "python3"
  },
  "language_info": {
   "codemirror_mode": {
    "name": "ipython",
    "version": 3
   },
   "file_extension": ".py",
   "mimetype": "text/x-python",
   "name": "python",
   "nbconvert_exporter": "python",
   "pygments_lexer": "ipython3",
   "version": "3.11.5"
  }
 },
 "nbformat": 4,
 "nbformat_minor": 2
}
