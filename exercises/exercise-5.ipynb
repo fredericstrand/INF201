{
 "cells": [
  {
   "cell_type": "markdown",
   "metadata": {},
   "source": [
    "# Exercise 5 \n",
    "\n",
    "#### Names:\n",
    "    Iftikhar Amiri iftikhar.amiri@nmbu.no\n",
    "    Frederic Ljosland Strand frederic.ljosland.strand@nmbu.no\n",
    "\n",
    "### Task 0: warmup\n",
    "\n",
    "In this exercise, you will implement two functions that perform vector addition. A vector can be represented as a list of numbers in Python (e.g., [1, 2, 3]).\n",
    "\n",
    "1. Define a function called inplace_add_vectors(vec1, vec2):\n",
    "\n",
    "* This function should add the corresponding elements of vec2 to vec1.\n",
    "* After calling this function, vec1 should be modified to hold the sum of the two vectors.\n",
    "* Example:\n",
    "    - v1 = [1, 2, 3]\n",
    "    - v2 = [4, 5, 6]\n",
    "    - inplace_add_vectors(v1, v2)\n",
    "    - print(v1) # Output: [5, 7, 9]\n",
    "\n",
    "2. Define a function called add_vectors(vec1, vec2):\n",
    "* This function should return a new vector where each element is the sum of the corresponding elements from vec1 and vec2.\n",
    "* The input vectors (vec1 and vec2) should remain unchanged.\n",
    "* Example:\n",
    "    - v1 = [1, 2, 3]\n",
    "    - v2 = [4, 5, 6]\n",
    "    - v3 = add_vectors(v1, v2)\n",
    "    - print(v1) # Output: [1, 2, 3]\n",
    "    - print(v3) # Output: [5, 7, 9]\n",
    "    \n",
    "If you want to check your solution or need help, take a look at this video."
   ]
  },
  {
   "cell_type": "code",
   "execution_count": 8,
   "metadata": {},
   "outputs": [
    {
     "name": "stdout",
     "output_type": "stream",
     "text": [
      "Vector 1 before operation: [1, 2, 3]\n",
      "Inplace sum of v1 and v2: [5, 7, 9]\n",
      "Vector 1 after operation: [5, 7, 9]\n"
     ]
    }
   ],
   "source": [
    "def inplace_add_vectors(vec1: list, vec2: list) -> list:\n",
    "    vec3 = []\n",
    "    if len(vec1) == len(vec2):\n",
    "        for _ in range(len(vec1)):\n",
    "            vec1[_] = (vec1[_] + vec2[_])\n",
    "    else:\n",
    "        print('The vectors need to be the same size')\n",
    "\n",
    "    return vec1\n",
    "\n",
    "v1 = [1, 2, 3]\n",
    "v2 = [4, 5, 6]\n",
    "\n",
    "print(f'Vector 1 before operation: {v1}')\n",
    "print(f'Inplace sum of v1 and v2: {inplace_add_vectors(v1, v2)}')\n",
    "print(f'Vector 1 after operation: {v1}')"
   ]
  },
  {
   "cell_type": "code",
   "execution_count": 1,
   "metadata": {},
   "outputs": [
    {
     "name": "stdout",
     "output_type": "stream",
     "text": [
      "Sum of v1 and v2: [5, 7, 9]\n"
     ]
    }
   ],
   "source": [
    "def add_vectors(vec1: list, vec2: list) -> list:\n",
    "    vec3 = []\n",
    "    if len(vec1) == len(vec2):\n",
    "        for _ in range(len(vec1)):\n",
    "            vec3.append(vec1[_] + vec2[_])\n",
    "    else:\n",
    "        print('The vectors need to be the same size')\n",
    "\n",
    "    return vec3\n",
    "\n",
    "v1 = [1, 2, 3]\n",
    "v2 = [4, 5, 6]\n",
    "print(f'Sum of v1 and v2: {add_vectors(v1, v2)}')"
   ]
  },
  {
   "cell_type": "markdown",
   "metadata": {},
   "source": [
    "### Task 1: Matrix operations\n",
    "\n",
    "* Create a large matrix:\n",
    "    - Make a 2D NumPy array of size , filled with random integers between 0 and 100.\n",
    "* Write four functions to work with the matrix:\n",
    "    - Mean function: Write a function that calculates the average (mean ) of all the numbers in the matrix. (Hint: The mean is the sum of all array entries divided by the total number of entries.)\n",
    "    - Variance function: Write a function to calculate the variance of the matrix. (Hint: The variance measures how much the entries in the matrix differ from the mean. It's calculated as the average of the squared differences from the mean, i.e.,  where  and  are the array entries (or matrix entries).)\n",
    "    - Sum function: Write a function that returns the total sum of all numbers in the matrix.\n",
    "    - Multiply function: Write a function that returns a new matrix where each number in the input matrix is multiplied by a given number.\n",
    "\n",
    "* Important Notes:\n",
    "    - The input matrix should not be changed.\n",
    "    - Be efficient in your implementation to avoid slowing down the program (for example, avoid unnecessary memory use or operations that slow down access to the matrix. Use concepts discussed in the lecture.)\n",
    "    - Write the code for these functions yourself—don’t use built-in functions from libraries for the calculations."
   ]
  },
  {
   "cell_type": "code",
   "execution_count": 37,
   "metadata": {},
   "outputs": [
    {
     "name": "stdout",
     "output_type": "stream",
     "text": [
      "Mean: 50.00038716\n",
      "Variance: 816.8461265484871\n",
      "Sum: 1250009679\n",
      "New matrix: [[42 58 36 ... 10 55 25]\n",
      " [40 18 32 ... 93 88 43]\n",
      " [12 63 90 ... 47 79 83]\n",
      " ...\n",
      " [44 77 59 ... 86  4 53]\n",
      " [15  2 69 ... 21 40  6]\n",
      " [94 16 39 ... 95 14 10]]\n",
      "CPU times: user 6.94 s, sys: 124 ms, total: 7.07 s\n",
      "Wall time: 7.07 s\n"
     ]
    }
   ],
   "source": [
    "%%time\n",
    "\n",
    "import numpy as np\n",
    "\n",
    "N = 5000\n",
    "matrix = np.random.randint(1, 100, size=(N,N))\n",
    "\n",
    "def mean(matrix:list) -> int:\n",
    "    total_sum = 0\n",
    "    total_elements = 0\n",
    "\n",
    "    for row in matrix:\n",
    "        for element in row:\n",
    "            total_sum += element\n",
    "            total_elements += 1\n",
    "\n",
    "    return total_sum / total_elements\n",
    "\n",
    "def variance(matrix:list) -> int:\n",
    "    total_var = 0\n",
    "    for row in matrix:\n",
    "        for element in row:\n",
    "            total_var += (mean - element)**2\n",
    "    variance = total_var / N**2\n",
    "\n",
    "    return variance\n",
    "\n",
    "def sum(matrix:list) -> int:\n",
    "    total_sum = 0\n",
    "\n",
    "    for row in matrix:\n",
    "        for element in row:\n",
    "            total_sum += element\n",
    "\n",
    "    return total_sum\n",
    "\n",
    "def multiply(matrix:list, factor:int) -> list:\n",
    "    for row in matrix:\n",
    "        for element in row:\n",
    "            element * factor\n",
    "\n",
    "    return matrix\n",
    "\n",
    "mean = mean(matrix)\n",
    "print(f'Mean: {mean}')\n",
    "variance = variance(matrix)\n",
    "print(f'Variance: {variance}')\n",
    "total_sum = sum(matrix)\n",
    "print(f'Sum: {total_sum}')\n",
    "new_matrix = multiply(matrix,5) \n",
    "print(f'New matrix: {new_matrix}')"
   ]
  },
  {
   "cell_type": "markdown",
   "metadata": {},
   "source": [
    "### Task 2: Stencil matrix\n",
    "\n",
    "Create a stencil matrix of the form with 50 by 50 entries. That is, create a matrix with diagonal entries of -2 and off-diagonal entries (the entries left and right of the diagonal) of 1. The first row is , i.e., the left off-diagonal entry is missing. The last row is , i.e., the right off-diagonal entry is missing.\n",
    "\n",
    "We now want to compute the dominant eigenvalue of this matrix. An eigenvalue tells you how a matrix will change certain vectors through multiplication. If you do not know what an eigenvalue is, that is no problem and this knowledge is not required to solve this task. If you wish to get a better understanding, you can watch this video Links to an external site. and the videos in this series, but this is really not required. To compute the dominant eigenvalue, take a random vector  with 50 entries and multiply it by , leading to . Set  and repeat the process. That is, with our new , compute , set  and proceed. You can use numpy functionality to compute multiplications and norms.  After 100 iterations, print out the value of  which approximates the dominant eigenvalue. Check the result by computing Lambda, V = np.linalg.eig(A) and inspecting the largest absolute value in Lambda."
   ]
  },
  {
   "cell_type": "code",
   "execution_count": 41,
   "metadata": {},
   "outputs": [
    {
     "name": "stdout",
     "output_type": "stream",
     "text": [
      "[[-2.  1.  0. ...  0.  0.  0.]\n",
      " [ 1. -2.  1. ...  0.  0.  0.]\n",
      " [ 0.  1. -2. ...  0.  0.  0.]\n",
      " ...\n",
      " [ 0.  0.  0. ... -2.  1.  0.]\n",
      " [ 0.  0.  0. ...  1. -2.  1.]\n",
      " [ 0.  0.  0. ...  0.  1. -2.]]\n"
     ]
    }
   ],
   "source": [
    "stencil_matrix = np.zeros((50,50))\n",
    "\n",
    "for i in range(50):\n",
    "    stencil_matrix[i, i] = -2\n",
    "    if i > 0:\n",
    "        stencil_matrix[i, i - 1] = 1\n",
    "    if i < 49:\n",
    "        stencil_matrix[i, i + 1] = 1\n",
    "\n",
    "print(stencil_matrix)"
   ]
  },
  {
   "cell_type": "markdown",
   "metadata": {},
   "source": [
    "### Task 3: challenge exercise\n",
    "\n",
    "Try to rewrite task 2 so that you never have to store the matrix . For this, write your own function multiply_efficient(v), which computes the matrix-vector product without requiring the matrix. To write this function, think about the operations that will be performed when computing  and check if some of these operations can be left out for our choice of . Hint: A lot of entries in  are zero!"
   ]
  },
  {
   "cell_type": "markdown",
   "metadata": {},
   "source": []
  }
 ],
 "metadata": {
  "kernelspec": {
   "display_name": "Python (myenv)",
   "language": "python",
   "name": "myenv"
  },
  "language_info": {
   "codemirror_mode": {
    "name": "ipython",
    "version": 3
   },
   "file_extension": ".py",
   "mimetype": "text/x-python",
   "name": "python",
   "nbconvert_exporter": "python",
   "pygments_lexer": "ipython3",
   "version": "3.8.18"
  }
 },
 "nbformat": 4,
 "nbformat_minor": 2
}
