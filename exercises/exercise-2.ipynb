{
 "cells": [
  {
   "cell_type": "markdown",
   "metadata": {},
   "source": [
    "# Exercise 2\n",
    "\n",
    "### Task 0: Warm up exercise\n",
    "\n",
    "This exercise is meant as a warm up exercise to review how to set up projects in VS Code and use dictionaries. If you think you need a recap on these topics, try to solve this exercise. After you are done, or if you run into issues, you can take a look at this video. It will not help you to watch it before trying to solve the exercise, so please only watch the video if you run into issues or want to check your solution.\n",
    "\n",
    "1. Create a folder \"Exercise 2\" and use it as project folder in VS Code. Create a virtual environment in the Exercise 2 project.\n",
    "2. We now want to implement a simple game where each player rolls a dice each round. The results of rolling the dice are added up over each round and the player with the highest sum (total number of points) after the last round wins. Players are \"Sarah\", \"Titus\", and \"Hanna\" and the game is played for four rounds. Hence, when playing a game with two rounds, if Sarah rolls a 1 in round 1 and a 3 in round 2, Titus rolls a 4 in round 1 and a 2 in round 2, Titus will win with a total score of 6.\n",
    "3. To implement this game, define a function \"roll\" which takes the name of the current player and a dictionary which contains the current number of points for each player as input. In the first round, this dictionary is empty. Call this function over a variable number of rounds for all players. The function should not return any variables or values.\n",
    "4. Make sure you use type hints to define the types of the input and output of the \"roll\" function."
   ]
  },
  {
   "cell_type": "code",
   "execution_count": 21,
   "metadata": {},
   "outputs": [
    {
     "name": "stdout",
     "output_type": "stream",
     "text": [
      "[('Sarah', 7), ('Titus', 6), ('Hanna', 5)]\n",
      "Vinneren er: Sarah\n"
     ]
    }
   ],
   "source": [
    "import random\n",
    "\n",
    "dict_players = {\n",
    "    \"Sarah\": 0,\n",
    "    \"Titus\": 0,\n",
    "    \"Hanna\": 0\n",
    "}\n",
    "\n",
    "def roll(name: str, dict: str) -> None:\n",
    "    dict_players[name] += random.randint(1,6)\n",
    "\n",
    "for _ in range(2):\n",
    "    for name in dict_players:\n",
    "        roll(name, dict_players)\n",
    "    \n",
    "sorted_dict_players = sorted(dict_players.items(), key=lambda x: x[1], reverse=True)\n",
    "print(sorted_dict_players)\n",
    "print(f\"Vinneren er: {sorted_dict_players[0][0]}\")"
   ]
  },
  {
   "cell_type": "markdown",
   "metadata": {},
   "source": [
    "### Task 1: Counting votes: part 1\n",
    "\n",
    "Download the file 2021-09-14_party distribution_1_st_2021.csv Download 2021-09-14_party distribution_1_st_2021.csv to your project folder. If you cannot download it here, try downloading it in the Modules section of Canvas. Open it and inspect its structure. Find out which columns contain \n",
    "* the district name (Fylkenavn)\n",
    "* party code (Partikode)\n",
    "* number of votes received (Antall stemmer totalt)\n",
    "\n",
    "Write a program that reads the file and counts the total number of votes for each party across all districts\n",
    "prints the results in a table, starting with the party with the largest number of votes\n",
    "Modify your program so that it also prints the percentage of votes received by each party (2 decimals). Further, extend your program so that it marks the parties that received at least 4% of the vote.\n",
    "\n",
    "Turn your code into a function that takes the file name and the number of parties to include in the table as arguments. Hint: to indent several lines simultaneously, mark them and hit \"Tab\". Use the function to print the table, once with three and once with seven parties.\n",
    "Modify the code so that giving the number of parties to tabulate becomes optional. If the user calls the function with just the filename, all parties should be included in the table."
   ]
  },
  {
   "cell_type": "code",
   "execution_count": 2,
   "metadata": {},
   "outputs": [
    {
     "name": "stdout",
     "output_type": "stream",
     "text": [
      "\n",
      "Party          Votes          Percentage (%)      \n",
      "======================================================================\n",
      "A              761152         26.19           over electoral threshold\n",
      "H              590736         20.32           over electoral threshold\n",
      "SP             392193         13.49           over electoral threshold\n",
      "======================================================================\n",
      "Total number of voters: 2906468\n",
      "======================================================================\n",
      "\n",
      "Party          Votes          Percentage (%)      \n",
      "======================================================================\n",
      "A              761152         26.19           over electoral threshold\n",
      "H              590736         20.32           over electoral threshold\n",
      "SP             392193         13.49           over electoral threshold\n",
      "FRP            338129         11.63           over electoral threshold\n",
      "SV             216082         7.43            over electoral threshold\n",
      "RØDT           135613         4.67            over electoral threshold\n",
      "V              129453         4.45            over electoral threshold\n",
      "======================================================================\n",
      "Total number of voters: 2906468\n",
      "======================================================================\n"
     ]
    }
   ],
   "source": [
    "def count_votes(filename: str, num_parties: int = None):\n",
    "    dict_parties = {}\n",
    "    eligible_voters = 0\n",
    "\n",
    "    with open(filename, \"r\", encoding=\"utf-8\") as data:\n",
    "        data = data.readlines()[1:]\n",
    "\n",
    "        for line in data:\n",
    "            parts = line.split(\";\")\n",
    "            district = parts[1]\n",
    "            party_code = parts[6]\n",
    "            num_votes = parts[12]\n",
    "            \n",
    "            eligible_voters += int(num_votes)\n",
    "\n",
    "            if party_code in dict_parties:\n",
    "                dict_parties[party_code] += int(num_votes)\n",
    "            else:\n",
    "                dict_parties[party_code] = int(num_votes)\n",
    "\n",
    "    sorted_dict_parties = dict(sorted(dict_parties.items(), key=lambda x: x[1], reverse=True))\n",
    "\n",
    "    print(f\"\\n{'Party':<15}{'Votes':<15}{'Percentage (%)':<20}\")\n",
    "    print(\"=\" * 70)\n",
    "\n",
    "    for i, party in enumerate(sorted_dict_parties):\n",
    "        votes = sorted_dict_parties[party]\n",
    "        percentage = (votes / eligible_voters) * 100\n",
    "        mark = \"over electoral threshold\" if percentage >= 4 else \"\"\n",
    "\n",
    "        print(f\"{party:<15}{votes:<15}{percentage:<16.2f}{mark}\")\n",
    "\n",
    "        if num_parties and i + 1 == num_parties:\n",
    "            break\n",
    "\n",
    "    print(\"=\" * 70)\n",
    "    print(f\"Total number of voters: {eligible_voters}\")\n",
    "    print(\"=\" * 70)\n",
    "\n",
    "count_votes(\"data/2021-09-14_party distribution_1_st_2021.csv\", 3)\n",
    "count_votes(\"data/2021-09-14_party distribution_1_st_2021.csv\",7)"
   ]
  },
  {
   "cell_type": "code",
   "execution_count": 3,
   "metadata": {},
   "outputs": [
    {
     "name": "stdout",
     "output_type": "stream",
     "text": [
      "\n",
      "Party          Votes          Percentage (%)      \n",
      "======================================================================\n",
      "A              761152         26.19           over electoral threshold\n",
      "H              590736         20.32           over electoral threshold\n",
      "SP             392193         13.49           over electoral threshold\n",
      "FRP            338129         11.63           over electoral threshold\n",
      "SV             216082         7.43            over electoral threshold\n",
      "RØDT           135613         4.67            over electoral threshold\n",
      "V              129453         4.45            over electoral threshold\n",
      "MDG            111033         3.82            \n",
      "KRF            110083         3.79            \n",
      "DEMN           33326          1.15            \n",
      "PP             18713          0.64            \n",
      "BLANKE         17818          0.61            \n",
      "KRISTNE        10179          0.35            \n",
      "INP            9763           0.34            \n",
      "PS             7526           0.26            \n",
      "HELSE          6309           0.22            \n",
      "PF             4908           0.17            \n",
      "LIBS           4325           0.15            \n",
      "FNB            3354           0.12            \n",
      "AAN            2416           0.08            \n",
      "PIR            2257           0.08            \n",
      "NKP            303            0.01            \n",
      "FI             275            0.01            \n",
      "GENE           171            0.01            \n",
      "KYST           167            0.01            \n",
      "RN             96             0.00            \n",
      "GT             88             0.00            \n",
      "======================================================================\n",
      "Total number of voters: 2906468\n",
      "======================================================================\n"
     ]
    }
   ],
   "source": [
    "count_votes(\"data/2021-09-14_party distribution_1_st_2021.csv\")"
   ]
  },
  {
   "cell_type": "markdown",
   "metadata": {},
   "source": [
    "### Task 2: ASCII and UTF-8\n",
    "\n",
    "Write a function that takes a list of chars as input and identifies if they lie in the ACSII range. If a char lies in the ASCII range, print out its bit representation. Use type hints when defining your function. Check the output when the input is [\"2\", \"$\", \"å\"]\n",
    "\n",
    "Hint: Given an integer p, you can obtain its byte representation via format(p, '08b'). As an example, if the input to the function is [\"1\",\"€\"], the output should be"
   ]
  },
  {
   "cell_type": "code",
   "execution_count": 43,
   "metadata": {},
   "outputs": [
    {
     "name": "stdout",
     "output_type": "stream",
     "text": [
      "Character: '2'\n",
      "- ASCII representation: 00110010\n",
      "Character: '$'\n",
      "- ASCII representation: 00100100\n",
      "Character: 'å'\n",
      "- Not in ASCII range\n",
      "Character: '€'\n",
      "- Not in ASCII range\n"
     ]
    }
   ],
   "source": [
    "chars = [\"2\", \"$\", \"å\", \"€\"]\n",
    "def ascii_checker(chars: list[str]) -> None:\n",
    "    for char in chars:\n",
    "        print(f\"Character: '{char}'\")\n",
    "        \n",
    "        if ord(char) < 128:\n",
    "            binary = format(ord(char), '08b')\n",
    "            print(f\"- ASCII representation: {binary}\")\n",
    "        else:\n",
    "            print(\"- Not in ASCII range\")\n",
    "\n",
    "\n",
    "ascii_checker(chars)"
   ]
  },
  {
   "cell_type": "markdown",
   "metadata": {},
   "source": [
    "### Task 3: Challenge assignment\n",
    "\n",
    "This assignment is not graded and does not give points. You can solve it to further improve your understanding of ways to present characters on a computer. Extend task 2 and ensure that it additionally prints out the UTF-8 encoding. As an example you should now get"
   ]
  },
  {
   "cell_type": "code",
   "execution_count": 41,
   "metadata": {},
   "outputs": [
    {
     "name": "stdout",
     "output_type": "stream",
     "text": [
      "Character: '2'\n",
      "- ASCII representation: 00110010\n",
      "- UTF-8: 00110010 (1 bytes)\n",
      "Character: '$'\n",
      "- ASCII representation: 00100100\n",
      "- UTF-8: 00100100 (1 bytes)\n",
      "Character: 'å'\n",
      "- Not in ASCII range\n",
      "- UTF-8: 11000011 10100101 (2 bytes)\n",
      "Character: '€'\n",
      "- Not in ASCII range\n",
      "- UTF-8: 11100010 10000010 10101100 (3 bytes)\n",
      "Character: 'a'\n",
      "- ASCII representation: 01100001\n",
      "- UTF-8: 01100001 (1 bytes)\n"
     ]
    }
   ],
   "source": [
    "chars = [\"2\", \"$\", \"å\", \"€\", \"a\"]\n",
    "def ascii_checker(chars: list[str]) -> None:\n",
    "    for char in chars:\n",
    "        print(f\"Character: '{char}'\")\n",
    "        \n",
    "        if ord(char) < 128:\n",
    "            binary = format(ord(char), '08b')\n",
    "            print(f\"- ASCII representation: {binary}\")\n",
    "        else:\n",
    "            print(\"- Not in ASCII range\")\n",
    "\n",
    "        utf8_bytes = char.encode('utf-8')\n",
    "        utf8_rep = ' '.join(format(byte, '08b') for byte in utf8_bytes)\n",
    "        print(f\"- UTF-8: {utf8_rep} ({len(utf8_bytes)} bytes)\")\n",
    "\n",
    "ascii_checker(chars)"
   ]
  },
  {
   "cell_type": "code",
   "execution_count": null,
   "metadata": {},
   "outputs": [],
   "source": []
  }
 ],
 "metadata": {
  "kernelspec": {
   "display_name": "Python 3",
   "language": "python",
   "name": "python3"
  },
  "language_info": {
   "codemirror_mode": {
    "name": "ipython",
    "version": 3
   },
   "file_extension": ".py",
   "mimetype": "text/x-python",
   "name": "python",
   "nbconvert_exporter": "python",
   "pygments_lexer": "ipython3",
   "version": "3.10.12"
  }
 },
 "nbformat": 4,
 "nbformat_minor": 2
}
