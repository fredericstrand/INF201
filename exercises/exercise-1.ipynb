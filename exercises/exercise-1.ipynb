{
 "cells": [
  {
   "cell_type": "markdown",
   "metadata": {},
   "source": [
    "# Exercise 1 INF201 \n",
    "\n",
    "### Task 1: a greating\n",
    "\n",
    "Write a program that asks a user for a name and prints out a greeting. Program execution may look like this, where \"Jonas\" is user input:"
   ]
  },
  {
   "cell_type": "code",
   "execution_count": 3,
   "metadata": {},
   "outputs": [
    {
     "name": "stdout",
     "output_type": "stream",
     "text": [
      "Welcome to INF201, Frederic\n"
     ]
    }
   ],
   "source": [
    "name_1 = input('Please enter your name: ')\n",
    "print(f'Welcome to INF201, {name_1}')"
   ]
  },
  {
   "cell_type": "markdown",
   "metadata": {},
   "source": [
    "### Task 2: A pretty greating\n",
    "\n",
    "Based on Task 1, write a program that places the greeting into a frame. Only the output is shown below for two cases. Make sure that the width of the frame adapts to the length of the name entered."
   ]
  },
  {
   "cell_type": "code",
   "execution_count": 4,
   "metadata": {},
   "outputs": [
    {
     "name": "stdout",
     "output_type": "stream",
     "text": [
      "********************************\n",
      "* Welcome to INF201, Frederic! *\n",
      "********************************\n"
     ]
    }
   ],
   "source": [
    "def print_nice_output(name):\n",
    "    output = 'Welcome to INF201, ' + name + '!'\n",
    "    print('*' * (len(output)+4))\n",
    "    print('*',output,'*')\n",
    "    print('*' * (len(output)+4))\n",
    "\n",
    "name_2 = input('Please enter your name: ')\n",
    "print_nice_output(name_2)"
   ]
  },
  {
   "cell_type": "markdown",
   "metadata": {},
   "source": [
    "### Task 3: Tabulate numbers\n",
    "\n",
    "Write a program that tabulates the squares and third powers of the numbers from 0 to 10. Try to format the table nicely. Output may look like this:"
   ]
  },
  {
   "cell_type": "code",
   "execution_count": 5,
   "metadata": {},
   "outputs": [
    {
     "name": "stdout",
     "output_type": "stream",
     "text": [
      "x    x^2  x^3  \n",
      "---------------\n",
      "0    0    0    \n",
      "1    1    1    \n",
      "2    4    8    \n",
      "3    9    27   \n",
      "4    16   64   \n",
      "5    25   125  \n",
      "6    36   216  \n",
      "7    49   343  \n",
      "8    64   512  \n",
      "9    81   729  \n",
      "10   100  1000 \n",
      "---------------\n"
     ]
    }
   ],
   "source": [
    "print(f\"{'x':<5}{'x^2':<5}{'x^3':<5}\")\n",
    "print('-' * 15)\n",
    "\n",
    "for x in range(11):\n",
    "    print(f\"{x:<5}{x**2:<5}{x**3:<5}\")\n",
    "\n",
    "print('-' * 15)"
   ]
  },
  {
   "cell_type": "markdown",
   "metadata": {},
   "source": [
    "### Task 4\n",
    "\n",
    "Download the file norway_municipalities_2017.csv Download norway_municipalities_2017.csv . If you cannot download this file, go to modules in Canvas, where you can find the file in the folder Exercise 1. It contains a list of all Norwegian municipalities, the district (fylke) they belong to, and their population (data from 2017).\n",
    "\n",
    "Write a program that reads this file, calculates the population for each of the 19 districts, and prints this as a well-formatted table in alphabetical order. Your program should only use built-in Python features and not contain any import statements. Between 10 and 20 lines of code should be enough to solve this task. \n",
    "\n",
    "Sort the table in descending order of population, i.e., beginning with the most populous district.\n",
    "\n",
    "**Code below just for visualization of the data**"
   ]
  },
  {
   "cell_type": "code",
   "execution_count": 6,
   "metadata": {},
   "outputs": [
    {
     "data": {
      "text/html": [
       "<div>\n",
       "<style scoped>\n",
       "    .dataframe tbody tr th:only-of-type {\n",
       "        vertical-align: middle;\n",
       "    }\n",
       "\n",
       "    .dataframe tbody tr th {\n",
       "        vertical-align: top;\n",
       "    }\n",
       "\n",
       "    .dataframe thead th {\n",
       "        text-align: right;\n",
       "    }\n",
       "</style>\n",
       "<table border=\"1\" class=\"dataframe\">\n",
       "  <thead>\n",
       "    <tr style=\"text-align: right;\">\n",
       "      <th></th>\n",
       "      <th>Municipality</th>\n",
       "      <th>District</th>\n",
       "      <th>Population</th>\n",
       "    </tr>\n",
       "  </thead>\n",
       "  <tbody>\n",
       "    <tr>\n",
       "      <th>0</th>\n",
       "      <td>Halden</td>\n",
       "      <td>Østfold</td>\n",
       "      <td>30790</td>\n",
       "    </tr>\n",
       "    <tr>\n",
       "      <th>1</th>\n",
       "      <td>Moss</td>\n",
       "      <td>Østfold</td>\n",
       "      <td>32407</td>\n",
       "    </tr>\n",
       "    <tr>\n",
       "      <th>2</th>\n",
       "      <td>Sarpsborg</td>\n",
       "      <td>Østfold</td>\n",
       "      <td>55127</td>\n",
       "    </tr>\n",
       "    <tr>\n",
       "      <th>3</th>\n",
       "      <td>Fredrikstad</td>\n",
       "      <td>Østfold</td>\n",
       "      <td>80121</td>\n",
       "    </tr>\n",
       "    <tr>\n",
       "      <th>4</th>\n",
       "      <td>Hvaler</td>\n",
       "      <td>Østfold</td>\n",
       "      <td>4517</td>\n",
       "    </tr>\n",
       "  </tbody>\n",
       "</table>\n",
       "</div>"
      ],
      "text/plain": [
       "  Municipality District  Population\n",
       "0       Halden  Østfold       30790\n",
       "1         Moss  Østfold       32407\n",
       "2    Sarpsborg  Østfold       55127\n",
       "3  Fredrikstad  Østfold       80121\n",
       "4       Hvaler  Østfold        4517"
      ]
     },
     "execution_count": 6,
     "metadata": {},
     "output_type": "execute_result"
    }
   ],
   "source": [
    "import pandas as pd\n",
    "\n",
    "municipalities_df = pd.read_csv(\"data/norway_municipalities_2017.csv\")\n",
    "municipalities_df.head()"
   ]
  },
  {
   "cell_type": "code",
   "execution_count": 7,
   "metadata": {},
   "outputs": [
    {
     "name": "stdout",
     "output_type": "stream",
     "text": [
      "District            Population\n",
      "------------------------------\n",
      "Oslo                    666759\n",
      "Akershus                604368\n",
      "Hordaland               519963\n",
      "Rogaland                472024\n",
      "Sør-Trøndelag           317363\n",
      "Østfold                 292893\n",
      "Buskerud                279714\n",
      "Møre og Romsdal         266274\n",
      "Vestfold                247048\n",
      "Nordland                242866\n",
      "Hedmark                 196190\n",
      "Oppland                 189479\n",
      "Vest-Agder              184116\n",
      "Telemark                173307\n",
      "Troms - Romsa           165632\n",
      "Nord-Trøndelag          137233\n",
      "Aust-Agder              116673\n",
      "Sogn og Fjordane        110266\n",
      "Finnmark - Finnmárku     76149\n"
     ]
    }
   ],
   "source": [
    "districts = {}\n",
    "\n",
    "with open(\"data/norway_municipalities_2017.csv\",\"r\") as data:\n",
    "    population_dict = {}\n",
    "    next(data)\n",
    "    for line in data:\n",
    "        parts = line.strip().split(',')\n",
    "        district, population = parts[1], int(parts[2])\n",
    "        if district in districts:\n",
    "            districts[district] += population\n",
    "        else:\n",
    "            districts[district] = population\n",
    "\n",
    "    sorted_districts = sorted(districts.items(), key=lambda x: x[1], reverse=True)\n",
    "\n",
    "    print(f\"{'District':<20}{'Population':>10}\")\n",
    "    print('-' * 30)\n",
    "    for district, population in sorted_districts:\n",
    "        print(f\"{district:<20}{population:>10}\")"
   ]
  },
  {
   "cell_type": "markdown",
   "metadata": {},
   "source": [
    "### Task 5: Plot data\n",
    "\n",
    "Write a program that works on the same data as Task 4, but plots the population of the districts as a bar diagram (one bar per district). You can either extend the program from Task 4 using, e.g., matplotlib for plotting, or write a new program. If you know Pandas, see if you can reduce reading the file, computing the sums, and plotting to a single line of code. You probably need to add plt.show() at the end of the program to see the plot."
   ]
  },
  {
   "cell_type": "code",
   "execution_count": 8,
   "metadata": {},
   "outputs": [
    {
     "data": {
      "image/png": "[encoded data removed]",
      "text/plain": [
       "<Figure size 640x480 with 1 Axes>"
      ]
     },
     "metadata": {},
     "output_type": "display_data"
    }
   ],
   "source": [
    "municipalities_df = pd.read_csv(\"data/norway_municipalities_2017.csv\")\n",
    "districts_df = municipalities_df.groupby('District')['Population'].sum().sort_values(ascending=False).plot.bar()"
   ]
  },
  {
   "cell_type": "code",
   "execution_count": null,
   "metadata": {},
   "outputs": [],
   "source": []
  }
 ],
 "metadata": {
  "kernelspec": {
   "display_name": "Python 3",
   "language": "python",
   "name": "python3"
  },
  "language_info": {
   "codemirror_mode": {
    "name": "ipython",
    "version": 3
   },
   "file_extension": ".py",
   "mimetype": "text/x-python",
   "name": "python",
   "nbconvert_exporter": "python",
   "pygments_lexer": "ipython3",
   "version": "3.10.12"
  }
 },
 "nbformat": 4,
 "nbformat_minor": 2
}
