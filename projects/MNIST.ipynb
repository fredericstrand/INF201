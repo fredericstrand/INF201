{
 "cells": [
  {
   "cell_type": "markdown",
   "metadata": {},
   "source": [
    "# Neural network for the MNIST dataset\n",
    "\n",
    "### Importing and inspecting the data"
   ]
  },
  {
   "cell_type": "code",
   "execution_count": 19,
   "metadata": {},
   "outputs": [],
   "source": [
    "# Loading the data\n",
    "import numpy as np\n",
    "import matplotlib.pyplot as plt\n",
    "from sklearn import datasets"
   ]
  },
  {
   "cell_type": "code",
   "execution_count": 20,
   "metadata": {},
   "outputs": [
    {
     "data": {
      "image/png": "[encoded data removed]",
      "text/plain": [
       "<Figure size 1000x300 with 4 Axes>"
      ]
     },
     "metadata": {},
     "output_type": "display_data"
    }
   ],
   "source": [
    "# Importing from sklearn\n",
    "digits = datasets.load_digits()\n",
    "\n",
    "# Inspecting four first images\n",
    "_, axes = plt.subplots(nrows=1, ncols=4, figsize=(10, 3))\n",
    "for ax, image, label in zip(axes, digits.images, digits.target):\n",
    "    ax.set_axis_off()\n",
    "    ax.imshow(image, cmap=plt.cm.gray_r, interpolation=\"nearest\")\n",
    "    ax.set_title(f\"Image: %i\" % label)"
   ]
  },
  {
   "cell_type": "markdown",
   "metadata": {},
   "source": [
    "### Explore the data\n",
    "\n",
    "Just checking if the data is relatively evenly distrubuted, because this will effect the performance"
   ]
  },
  {
   "cell_type": "code",
   "execution_count": 29,
   "metadata": {},
   "outputs": [
    {
     "data": {
      "image/png": "[encoded data removed]",
      "text/plain": [
       "<Figure size 640x480 with 1 Axes>"
      ]
     },
     "metadata": {},
     "output_type": "display_data"
    }
   ],
   "source": [
    "# Plotting the accurances of different values\n",
    "label_counts = np.bincount(digits.target)\n",
    "\n",
    "plt.bar(range(len(label_counts)), label_counts)\n",
    "plt.show()"
   ]
  },
  {
   "cell_type": "markdown",
   "metadata": {},
   "source": [
    "### Split into training and test sets"
   ]
  },
  {
   "cell_type": "code",
   "execution_count": 21,
   "metadata": {},
   "outputs": [
    {
     "data": {
      "text/plain": [
       "((1437, 64), (1437,), (360, 64), (360,))"
      ]
     },
     "execution_count": 21,
     "metadata": {},
     "output_type": "execute_result"
    }
   ],
   "source": [
    "# Get the data and targets\n",
    "X = digits.data\n",
    "y = digits.target\n",
    "\n",
    "# Shuffle the data \n",
    "np.random.seed(42)\n",
    "indices = np.random.permutation(len(X))\n",
    "\n",
    "# Define the split ratio for the training and test sets\n",
    "split_ratio = 0.8\n",
    "split_index = int(len(X) * split_ratio)\n",
    "\n",
    "# Split the indices into training and testing\n",
    "X_train, y_train = X[indices[:split_index]], y[indices[:split_index]]\n",
    "X_test, y_test = X[indices[split_index:]], y[indices[split_index:]]\n",
    "\n",
    "X_train.shape, y_train.shape, X_test.shape, y_test.shape"
   ]
  },
  {
   "cell_type": "markdown",
   "metadata": {},
   "source": [
    "## Building the forward pass for the model\n",
    "\n",
    "First we need to make the forward pass for the neural network. The forward pass consists of:\n",
    "\n",
    "**Weighted sum**\n",
    "\n",
    "$$\n",
    "Z^{(l)} = A^{(l-1)} W^{(l)} + b^{(l)}\n",
    "$$\n",
    "\n",
    "This gives a linear transformation of the input data by combining inputs and weights. The activation function is then applied to introduce non-linearity\n",
    "\n",
    "**Activation functions**\n",
    "\n",
    "* **ReLU activation function**\n",
    "$$\n",
    "f(z) = \\text{ReLU}(z) = \\max(0, z)\n",
    "$$\n",
    "\n",
    "* **Softmax**\n",
    "    Softmax converts raw prediction scores (logits) into probabilities. It is used in the output layer of multi-class classification problems like MNIST. It ensures    that the sum of probabilities across all classes is 1.\n",
    "$$\n",
    "\\sigma(z)_i = \\frac{e^{z_i}}{\\sum_{j=1}^{n} e^{z_j}}\n",
    "$$"
   ]
  },
  {
   "cell_type": "code",
   "execution_count": 30,
   "metadata": {},
   "outputs": [],
   "source": [
    "def relu(x):\n",
    "    return max(0,x)\n",
    "\n",
    "def relu_derivative(x): \n",
    "    return np.where(x > 0, 1, 0)\n",
    "\n",
    "def softmax(x):\n",
    "    exp_x = np.exp(x - np.max(x, axis=1, keepdims=True))\n",
    "    return exp_x / np.sum(exp_x, axis=1, keepdims=True)\n",
    "\n",
    "def cross_entropy_loss(y_true, y_pred):\n",
    "    y_pred = np.clip(y_pred, 1e-12, 1. - 1e-12)\n",
    "    return -np.sum(y_true * np.log(y_pred)) / y_true.shape[0]"
   ]
  },
  {
   "cell_type": "markdown",
   "metadata": {},
   "source": [
    "## Building the backpropegation\n",
    "\n",
    "The **backpropagation** process in a neural network is used to update the weights and biases based on the error (loss) computed during the forward pass. It works by calculating the gradients of the loss function with respect to the weights and propagating the error backward through the network using the chain rule of differentiation.\n",
    "\n",
    "##### Step 1: Categorical Cross-Entropy Loss\n",
    "\n",
    "For the backpropagation process, we first need to compute the error using a loss function. In the case of classification tasks, we typically use **categorical cross-entropy loss**:\n",
    "\n",
    "$$\n",
    "\\mathcal{L}(\\hat{y}, y) = - \\sum_{i=1}^{C} y_i \\log(\\hat{y}_i)\n",
    "$$\n",
    "\n",
    "Where:\n",
    "- \\( y_i \\) is the true label (one-hot encoded vector),\n",
    "- \\( \\hat{y}_i \\) is the predicted probability for class \\( i \\),\n",
    "- \\( C \\) is the number of classes.\n",
    "\n",
    "This loss measures how far the predicted probability distribution \\( \\hat{y} \\) is from the true label \\( y \\).\n",
    "\n",
    "\n",
    "##### Step 2: Gradient of the Loss with Respect to Output\n",
    "\n",
    "Once the loss is computed, we calculate the gradient of the loss with respect to the output of the network (i.e., the softmax probabilities \\( \\hat{y} \\)). The gradient for **categorical cross-entropy** is:\n",
    "\n",
    "$$\n",
    "\\frac{\\partial \\mathcal{L}}{\\partial \\hat{y}_i} = \\hat{y}_i - y_i\n",
    "$$\n",
    "\n",
    "This gradient tells us how much the predicted probability \\( \\hat{y}_i \\) deviates from the true label \\( y_i \\).\n",
    "\n",
    "\n",
    "##### Step 3: Backpropagation to Output Layer\n",
    "\n",
    "For the **output layer**, the backpropagation process begins by computing the gradient of the loss with respect to the weighted sum \\( Z^{(L)} \\) at the output layer. Using the chain rule:\n",
    "\n",
    "$$\n",
    "\\frac{\\partial \\mathcal{L}}{\\partial Z^{(L)}} = \\frac{\\partial \\mathcal{L}}{\\partial \\hat{y}} \\cdot \\frac{\\partial \\hat{y}}{\\partial Z^{(L)}}\n",
    "$$\n",
    "\n",
    "Since \\( \\frac{\\partial \\hat{y}}{\\partial Z^{(L)}} \\) is simplified by the properties of softmax, this results in:\n",
    "\n",
    "$$\n",
    "\\frac{\\partial \\mathcal{L}}{\\partial Z^{(L)}} = \\hat{y} - y\n",
    "$$\n",
    "\n",
    "This is the error signal we propagate back through the network.\n",
    "\n",
    "\n",
    "##### Step 4: Backpropagation to Hidden Layers\n",
    "\n",
    "For each hidden layer \\( l \\), we propagate the error backward using the chain rule. The gradient of the loss with respect to the weights and biases in layer \\( l \\) is calculated as follows:\n",
    "\n",
    "**Gradient of Weights:**\n",
    "$$\n",
    "\\frac{\\partial \\mathcal{L}}{\\partial W^{(l)}} = A^{(l-1)T} \\cdot \\delta^{(l)}\n",
    "$$\n",
    "\n",
    "Where:\n",
    "- \\( A^{(l-1)} \\) is the activation from the previous layer (or input data for the first layer),\n",
    "- \\( \\delta^{(l)} \\) is the error signal propagated from the next layer.\n",
    "\n",
    "**Gradient of Biases:**\n",
    "$$\n",
    "\\frac{\\partial \\mathcal{L}}{\\partial b^{(l)}} = \\sum \\delta^{(l)}\n",
    "$$\n",
    "\n",
    "Where:\n",
    "- \\( \\sum \\delta^{(l)} \\) is the sum of the error signal over all the samples in the batch.\n",
    "\n",
    "**Gradient of Input:**\n",
    "$$\n",
    "\\delta^{(l-1)} = \\delta^{(l)} \\cdot W^{(l)T}\n",
    "$$\n",
    "\n",
    "This step propagates the error backward to the previous layer so that its weights and biases can also be updated.\n",
    "\n",
    "\n",
    "##### Step 5: Weight Update Rule\n",
    "\n",
    "Finally, we update the weights and biases using **gradient descent**. The update rule for the weights is:\n",
    "\n",
    "$$\n",
    "W^{(l)} = W^{(l)} - \\alpha \\cdot \\frac{\\partial \\mathcal{L}}{\\partial W^{(l)}}\n",
    "$$\n",
    "\n",
    "And for the biases:\n",
    "\n",
    "$$\n",
    "b^{(l)} = b^{(l)} - \\alpha \\cdot \\frac{\\partial \\mathcal{L}}{\\partial b^{(l)}}\n",
    "$$\n",
    "\n",
    "Where:\n",
    "- \\( \\alpha \\) is the learning rate,\n",
    "- \\( \\frac{\\partial \\mathcal{L}}{\\partial W^{(l)}} \\) and \\( \\frac{\\partial \\mathcal{L}}{\\partial b^{(l)}} \\) are the gradients of the loss with respect to the weights and biases, respectively.\n"
   ]
  },
  {
   "cell_type": "code",
   "execution_count": null,
   "metadata": {},
   "outputs": [],
   "source": [
    "def cross_entropy_loss(y_true, y_pred):\n",
    "    y_pred = np.clip(y_pred, 1e-12, 1. - 1e-12)\n",
    "    return -np.sum(y_true * np.log(y_pred)) / y_true.shape[0]\n",
    "\n",
    "def relu_derivative(x):\n",
    "    return np.where(x > 0, 1, 0)"
   ]
  },
  {
   "cell_type": "markdown",
   "metadata": {},
   "source": [
    "## Creating the Layers"
   ]
  },
  {
   "cell_type": "code",
   "execution_count": 32,
   "metadata": {},
   "outputs": [],
   "source": [
    "class Layer:\n",
    "    def __init__(self, input_size, output_size):\n",
    "        # Initialize weights with small random values and biases to 0\n",
    "        self._weights = np.random.randn(input_size, output_size) * 0.1\n",
    "        self._bias = np.zeros((1, output_size))\n",
    "\n",
    "    def forward(self, inputs):\n",
    "        # Calculate the weighted sum of inputs + biases\n",
    "        self._inputs = inputs\n",
    "        self.output = np.dot(inputs, self._weights) + self._bias\n",
    "\n",
    "    def backward(self, d_output, learning_rate):\n",
    "        # Gradient of weights and biases based on the error signal (d_output)\n",
    "        d_weights = np.dot(self._inputs.T, d_output)\n",
    "        d_biases = np.sum(d_output, axis=0, keepdims=True)\n",
    "\n",
    "        # Gradient of the input to pass to the previous layer\n",
    "        d_inputs = np.dot(d_output, self._weights.T)\n",
    "\n",
    "        # Update weights and biases\n",
    "        self._weights -= learning_rate * d_weights\n",
    "        self._biases -= learning_rate * d_biases\n",
    "\n",
    "        return d_inputs\n",
    "\n",
    "class NeuralNetwork:\n",
    "    def __init__(self, input_size, hidden_size, output_size):\n",
    "        # Initialize two layers: one hidden and one output\n",
    "        self.layer1 = Layer(input_size, hidden_size)\n",
    "        self.layer2 = Layer(hidden_size, output_size)\n",
    "\n",
    "    def forward(self, X):\n",
    "        # Forward pass through the first layer with ReLU activation\n",
    "        self.layer1.forward(X)\n",
    "        self.layer1_output = relu(self.layer1.output)\n",
    "\n",
    "        # Forward pass through the second layer with Softmax activation\n",
    "        self.layer2.forward(self.layer1_output)\n",
    "        self.output = softmax(self.layer2.output)\n",
    "\n",
    "    def backward(self, X, y, learning_rate):\n",
    "        # Backward pass using Cross-Entropy Loss\n",
    "        loss = cross_entropy_loss(y, self.output)\n",
    "        d_output = self.output - y\n",
    "\n",
    "        # Backward pass through second layer\n",
    "        d_hidden = self.layer2.backward(d_output, learning_rate)\n",
    "\n",
    "        # Backward pass through the first layer with ReLU activation\n",
    "        d_inputs = self.layer1.backward(d_hidden * relu_derivative(self.layer1_output), learning_rate)\n",
    "\n",
    "    def train(self, X_train, y_train, epochs, learning_rate):\n",
    "        for epoch in range(epochs):\n",
    "            self.forward(X_train)\n",
    "            self.backward(X_train, y_train, learning_rate)\n",
    "\n",
    "            # Print the loss every 100 epochs\n",
    "            if epoch % 100 == 0:\n",
    "                loss = cross_entropy_loss(y_train, self.output)\n",
    "                print(f\"Epoch {epoch}, Loss: {loss}\")\n",
    "\n",
    "    def predict(self, X):\n",
    "        # Forward pass for predictions\n",
    "        self.forward(X)\n",
    "        return np.argmax(self.output, axis=1)"
   ]
  },
  {
   "cell_type": "markdown",
   "metadata": {},
   "source": [
    "### Test the model"
   ]
  },
  {
   "cell_type": "code",
   "execution_count": 33,
   "metadata": {},
   "outputs": [
    {
     "ename": "ValueError",
     "evalue": "shapes (1437,64) and (784,64) not aligned: 64 (dim 1) != 784 (dim 0)",
     "output_type": "error",
     "traceback": [
      "\u001b[0;31m---------------------------------------------------------------------------\u001b[0m",
      "\u001b[0;31mValueError\u001b[0m                                Traceback (most recent call last)",
      "Cell \u001b[0;32mIn[33], line 12\u001b[0m\n\u001b[1;32m      9\u001b[0m nn \u001b[38;5;241m=\u001b[39m NeuralNetwork(input_size, hidden_size, output_size)\n\u001b[1;32m     11\u001b[0m \u001b[38;5;66;03m# Train the neural network\u001b[39;00m\n\u001b[0;32m---> 12\u001b[0m \u001b[43mnn\u001b[49m\u001b[38;5;241;43m.\u001b[39;49m\u001b[43mtrain\u001b[49m\u001b[43m(\u001b[49m\u001b[43mX_train\u001b[49m\u001b[43m,\u001b[49m\u001b[43m \u001b[49m\u001b[43my_train\u001b[49m\u001b[43m,\u001b[49m\u001b[43m \u001b[49m\u001b[43mepochs\u001b[49m\u001b[43m,\u001b[49m\u001b[43m \u001b[49m\u001b[43mlearning_rate\u001b[49m\u001b[43m)\u001b[49m\n",
      "Cell \u001b[0;32mIn[32], line 54\u001b[0m, in \u001b[0;36mNeuralNetwork.train\u001b[0;34m(self, X_train, y_train, epochs, learning_rate)\u001b[0m\n\u001b[1;32m     52\u001b[0m \u001b[38;5;28;01mdef\u001b[39;00m \u001b[38;5;21mtrain\u001b[39m(\u001b[38;5;28mself\u001b[39m, X_train, y_train, epochs, learning_rate):\n\u001b[1;32m     53\u001b[0m     \u001b[38;5;28;01mfor\u001b[39;00m epoch \u001b[38;5;129;01min\u001b[39;00m \u001b[38;5;28mrange\u001b[39m(epochs):\n\u001b[0;32m---> 54\u001b[0m         \u001b[38;5;28;43mself\u001b[39;49m\u001b[38;5;241;43m.\u001b[39;49m\u001b[43mforward\u001b[49m\u001b[43m(\u001b[49m\u001b[43mX_train\u001b[49m\u001b[43m)\u001b[49m\n\u001b[1;32m     55\u001b[0m         \u001b[38;5;28mself\u001b[39m\u001b[38;5;241m.\u001b[39mbackward(X_train, y_train, learning_rate)\n\u001b[1;32m     57\u001b[0m         \u001b[38;5;66;03m# Print the loss every 100 epochs\u001b[39;00m\n",
      "Cell \u001b[0;32mIn[32], line 34\u001b[0m, in \u001b[0;36mNeuralNetwork.forward\u001b[0;34m(self, X)\u001b[0m\n\u001b[1;32m     32\u001b[0m \u001b[38;5;28;01mdef\u001b[39;00m \u001b[38;5;21mforward\u001b[39m(\u001b[38;5;28mself\u001b[39m, X):\n\u001b[1;32m     33\u001b[0m     \u001b[38;5;66;03m# Forward pass through the first layer with ReLU activation\u001b[39;00m\n\u001b[0;32m---> 34\u001b[0m     \u001b[38;5;28;43mself\u001b[39;49m\u001b[38;5;241;43m.\u001b[39;49m\u001b[43mlayer1\u001b[49m\u001b[38;5;241;43m.\u001b[39;49m\u001b[43mforward\u001b[49m\u001b[43m(\u001b[49m\u001b[43mX\u001b[49m\u001b[43m)\u001b[49m\n\u001b[1;32m     35\u001b[0m     \u001b[38;5;28mself\u001b[39m\u001b[38;5;241m.\u001b[39mlayer1_output \u001b[38;5;241m=\u001b[39m relu(\u001b[38;5;28mself\u001b[39m\u001b[38;5;241m.\u001b[39mlayer1\u001b[38;5;241m.\u001b[39moutput)\n\u001b[1;32m     37\u001b[0m     \u001b[38;5;66;03m# Forward pass through the second layer with Softmax activation\u001b[39;00m\n",
      "Cell \u001b[0;32mIn[32], line 10\u001b[0m, in \u001b[0;36mLayer.forward\u001b[0;34m(self, inputs)\u001b[0m\n\u001b[1;32m      7\u001b[0m \u001b[38;5;28;01mdef\u001b[39;00m \u001b[38;5;21mforward\u001b[39m(\u001b[38;5;28mself\u001b[39m, inputs):\n\u001b[1;32m      8\u001b[0m     \u001b[38;5;66;03m# Calculate the weighted sum of inputs + biases\u001b[39;00m\n\u001b[1;32m      9\u001b[0m     \u001b[38;5;28mself\u001b[39m\u001b[38;5;241m.\u001b[39m_inputs \u001b[38;5;241m=\u001b[39m inputs\n\u001b[0;32m---> 10\u001b[0m     \u001b[38;5;28mself\u001b[39m\u001b[38;5;241m.\u001b[39moutput \u001b[38;5;241m=\u001b[39m \u001b[43mnp\u001b[49m\u001b[38;5;241;43m.\u001b[39;49m\u001b[43mdot\u001b[49m\u001b[43m(\u001b[49m\u001b[43minputs\u001b[49m\u001b[43m,\u001b[49m\u001b[43m \u001b[49m\u001b[38;5;28;43mself\u001b[39;49m\u001b[38;5;241;43m.\u001b[39;49m\u001b[43m_weights\u001b[49m\u001b[43m)\u001b[49m \u001b[38;5;241m+\u001b[39m \u001b[38;5;28mself\u001b[39m\u001b[38;5;241m.\u001b[39m_bias\n",
      "\u001b[0;31mValueError\u001b[0m: shapes (1437,64) and (784,64) not aligned: 64 (dim 1) != 784 (dim 0)"
     ]
    }
   ],
   "source": [
    "# Hyperparameters\n",
    "input_size = 784\n",
    "hidden_size = 64\n",
    "output_size = 10\n",
    "epochs = 1000\n",
    "learning_rate = 0.01\n",
    "\n",
    "# Initialize the neural network\n",
    "nn = NeuralNetwork(input_size, hidden_size, output_size)\n",
    "\n",
    "# Train the neural network\n",
    "nn.train(X_train, y_train, epochs, learning_rate)\n"
   ]
  },
  {
   "cell_type": "code",
   "execution_count": null,
   "metadata": {},
   "outputs": [],
   "source": []
  }
 ],
 "metadata": {
  "kernelspec": {
   "display_name": "inf201env",
   "language": "python",
   "name": "python3"
  },
  "language_info": {
   "codemirror_mode": {
    "name": "ipython",
    "version": 3
   },
   "file_extension": ".py",
   "mimetype": "text/x-python",
   "name": "python",
   "nbconvert_exporter": "python",
   "pygments_lexer": "ipython3",
   "version": "3.11.5"
  }
 },
 "nbformat": 4,
 "nbformat_minor": 2
}
