{
 "cells": [
  {
   "cell_type": "markdown",
   "metadata": {},
   "source": [
    "# Exercise 3 INF201\n",
    "\n",
    "### Task 0: warm-up\n",
    "\n",
    "Assume a file with the content\n",
    "\n",
    "The following document contains several email addresses. They all have the form example.name@institution.domain, example-name@institution.domain, or example_name@institution.domain. \n",
    "\n",
    "Two examples with the nmbu domain are jonas.kusch@nmbu.no or lena.scholzer@nmbu.no.\n",
    "Two examples with a generic domain are jonas.kusch@gmail.domain or lena-scholzer@nmbu.domain.\n",
    "Write a function that, given a file name, goes through the file (skipping its first line) and finds all email addresses. The program identifies the name, the institution, and the domain."
   ]
  },
  {
   "cell_type": "code",
   "execution_count": 3,
   "metadata": {},
   "outputs": [
    {
     "name": "stdout",
     "output_type": "stream",
     "text": [
      "Name: jonas.kusch, Institution: nmbu, Domain: no\n",
      "Name: lena.scholzer, Institution: nmbu, Domain: no\n",
      "Name: jonas.kusch, Institution: gmail, Domain: domain\n",
      "Name: lena-scholzer, Institution: nmbu, Domain: domain\n"
     ]
    }
   ],
   "source": [
    "import re\n",
    "\n",
    "def find_emails(filename):\n",
    "    email_regex = r'([a-zA-Z0-9._-]+)@([a-zA-Z0-9.-]+)\\.([a-zA-Z]{2,})'\n",
    "\n",
    "    with open(filename) as data:\n",
    "        data.readline()\n",
    "        content = data.read()\n",
    "        emails = re.findall(email_regex, content)\n",
    "\n",
    "        result = []\n",
    "        for name, institution, domain in emails:\n",
    "            result.append({\n",
    "                \"name\": name,\n",
    "                \"institution\": institution,\n",
    "                \"domain\": domain\n",
    "            })\n",
    "\n",
    "    return result\n",
    "\n",
    "emails_found = find_emails(\"data/email.txt\")\n",
    "\n",
    "for email in emails_found:\n",
    "    print(f\"Name: {email['name']}, Institution: {email['institution']}, Domain: {email['domain']}\")\n"
   ]
  },
  {
   "cell_type": "markdown",
   "metadata": {},
   "source": [
    "### Task 1: Regex\n",
    "\n",
    "Assume that we have sentences of the form\n",
    "\n",
    "* Ali and Per are friends.\n",
    "* Kari and Joe know each other.\n",
    "* James has known Peter since school days.\n",
    "\n",
    "The common structure here is that each sentence contains two names and that the names are the only words beginning with capital letters. Create a regular expression that\n",
    "\n",
    "* matches these sentences (one sentence at a time)\n",
    "* collects the names in groups\n",
    "\n",
    "and write a program that can go through a list of such sentences and print a table of the form (and formatting)\n",
    "\n",
    "      Friendships      \n",
    "-----------------------\n",
    "       Ali - Per       \n",
    "      Kari - Joe       \n",
    "     James - Peter \n",
    "\n",
    "Assume that\n",
    "* each sentence begins with a name\n",
    "* all names only contain letters from A–Z and a–z\n",
    "* that all names have at least two letters.\n",
    "\n",
    "Make sure the program is efficient by ensuring that the regex is not re-parsed and compiled each time it is used. Your program should work for all sentences with two names that fulfill the previously mentioned rules."
   ]
  },
  {
   "cell_type": "code",
   "execution_count": null,
   "metadata": {},
   "outputs": [
    {
     "name": "stdout",
     "output_type": "stream",
     "text": [
      "    Friendships     \n",
      "--------------------\n",
      "    Ali  -  Per \n",
      "   Kari  -  Joe \n",
      "   James - Peter\n"
     ]
    }
   ],
   "source": [
    "import re\n",
    "\n",
    "regex = re.compile(r'\\b([A-Z][a-z]+)\\b.*\\b([A-Z][a-z]+)\\b')\n",
    "\n",
    "def print_friendships(sentences):\n",
    "    print(f'{\"Friendships\":^20}')\n",
    "    print(f'{\"-\"*20}')\n",
    "    \n",
    "    for sentence in sentences:\n",
    "        match = regex.match(sentence)\n",
    "        if match:\n",
    "            name1, name2 = match.groups()\n",
    "            print(f'   {name1:^5} - {name2:^5}')\n",
    "\n",
    "sentences = [\n",
    "    \"Ali and Per are friends.\",\n",
    "    \"Kari and Joe know each other.\",\n",
    "    \"James has known Peter since school days.\"\n",
    "]\n",
    "\n",
    "print_friendships(sentences)\n"
   ]
  },
  {
   "cell_type": "markdown",
   "metadata": {},
   "source": [
    "### Task 2: Password validation\n",
    "\n",
    "Write a Python function validate_password that checks if a given password string is valid based on the following rules:\n",
    "\n",
    "* Starts with an uppercase letter from I to Z.\n",
    "* Contains at least one word character (a-z, A-Z, 0-9, or underscore).\n",
    "* Has exactly 4 to 5 characters in length.\n",
    "* Ends with a digit.\n",
    "* May contain spaces between the characters but cannot start or end with a space.\n",
    "* The password must end at the string's end.\n",
    "\n",
    "Example passwords:\n",
    "\n",
    "* Valid: J1234, I_ab5, Z9_w4\n",
    "* Invalid: A1234 (starts with wrong letter), J12345 (too many characters), I__ (does not end with a digit)"
   ]
  },
  {
   "cell_type": "code",
   "execution_count": null,
   "metadata": {},
   "outputs": [
    {
     "name": "stdout",
     "output_type": "stream",
     "text": [
      "Password: J1234, Valid: True\n",
      "Password: I_ab5, Valid: True\n",
      "Password: Z9_w4, Valid: True\n",
      "Password: A1234, Valid: False\n",
      "Password: J12345, Valid: False\n",
      "Password: I__, Valid: False\n",
      "Password:   I12, Valid: False\n",
      "Password: I12  , Valid: False\n"
     ]
    }
   ],
   "source": [
    "import re\n",
    "\n",
    "def validate_password(password):\n",
    "    pattern = re.compile(r'^[I-Z][\\w ]{2,3}\\d$')\n",
    "\n",
    "    if pattern.match(password) and not password.startswith(' ') and not password.endswith(' '):\n",
    "        if re.search(r'\\w', password):\n",
    "            return True\n",
    "    return False\n",
    "\n",
    "passwords = [\"J1234\", \"I_ab5\", \"Z9_w4\", \"A1234\", \"J12345\", \"I__\", \"  I12\", \"I12  \"]\n",
    "for pwd in passwords:\n",
    "    print(f\"Password: {pwd}, Valid: {validate_password(pwd)}\")"
   ]
  },
  {
   "cell_type": "markdown",
   "metadata": {},
   "source": [
    "### Task 3: challange exercise\n",
    "\n",
    "Write a program that goes through all the python files in the current working directory and prints out all imports per file. Here, an import means the word that follows the keyword «import». Your program should be able to find patterns beginning with «import» and «from».\n",
    "\n",
    "Assume you have a file «dummy.py» with the following lines:\n",
    "\n",
    "    import re # this imports re\n",
    "\n",
    "    from pathlib import Path # this imports Path\n",
    "    \n",
    "Then, the output of your program should look like:\n",
    "\n",
    "    path/to/file/dummy.py: ['re']\n",
    "\n",
    "    path/to/file/dummy.py: ['Path']\n",
    "\n",
    "You can assume that module and package names only have word characters and that imports end with a white space. Proceed as follows:\n",
    "\n",
    "- Use the compile function to construct two regular expressions to find and return the package name in\n",
    "1. lines starting with «import»\n",
    "2. lines starting with «from»\n",
    "- Use the pathlib-module to find all files in the current working directory which end with «.py».\n",
    "- Iterate through all the lines of the found files and extract the import names using the compiled regular expressions.\n",
    "- If the file contains any imports, print the path of the file along with the packages that are imported.\n",
    "\n",
    "A few maybe useful regex-commands:\n",
    "* ? one or none characters\n",
    "* one or more characters\n",
    "* {3,} three or more characters\n",
    "* \\A beginning of line\n",
    "* \\s white spaces\n",
    "* \\w word characters\n",
    "* \\b end of word\n",
    "* () grouping, only the term in brackets is returned."
   ]
  },
  {
   "cell_type": "code",
   "execution_count": null,
   "metadata": {},
   "outputs": [
    {
     "name": "stdout",
     "output_type": "stream",
     "text": [
      "/Users/fredericstrand/Documents/INF201/data/dummy.py: re\n",
      "/Users/fredericstrand/Documents/INF201/data/dummy.py: Path\n"
     ]
    }
   ],
   "source": [
    "import re\n",
    "from pathlib import Path\n",
    "\n",
    "def check_python_files(directory):\n",
    "    pattern_import = re.compile(r'^\\s*import\\s+(\\w+)')\n",
    "    pattern_from = re.compile(r'^\\s*from\\s+\\w+\\s+import\\s+(\\w+)\\b')\n",
    "\n",
    "    path_to_dir = Path(directory)\n",
    "    pathlist = path_to_dir.rglob('*.py')\n",
    "\n",
    "    for path in pathlist:\n",
    "        imports = []\n",
    "        with open(path, 'r') as file:\n",
    "            for line in file:\n",
    "                import_match = pattern_import.match(line)\n",
    "                if import_match:\n",
    "                    imports.append(import_match.group(1))\n",
    "\n",
    "                from_match = pattern_from.match(line)\n",
    "                if from_match:\n",
    "                    imports.append(from_match.group(1))\n",
    "\n",
    "        if imports:\n",
    "            full_path = str(path.resolve())\n",
    "            for module in imports:\n",
    "                print(f\"{full_path}: {module}\")\n",
    "\n",
    "check_python_files('data/')\n"
   ]
  },
  {
   "cell_type": "code",
   "execution_count": null,
   "metadata": {},
   "outputs": [],
   "source": []
  }
 ],
 "metadata": {
  "kernelspec": {
   "display_name": "Python (myenv)",
   "language": "python",
   "name": "myenv"
  },
  "language_info": {
   "codemirror_mode": {
    "name": "ipython",
    "version": 3
   },
   "file_extension": ".py",
   "mimetype": "text/x-python",
   "name": "python",
   "nbconvert_exporter": "python",
   "pygments_lexer": "ipython3",
   "version": "3.8.18"
  }
 },
 "nbformat": 4,
 "nbformat_minor": 2
}
